{
 "cells": [
  {
   "cell_type": "markdown",
   "metadata": {},
   "source": [
    "# MNIST Digit Recognition Using Keras"
   ]
  },
  {
   "cell_type": "code",
   "execution_count": 1,
   "metadata": {},
   "outputs": [
    {
     "name": "stderr",
     "output_type": "stream",
     "text": [
      "/home/behailu/anaconda3/lib/python3.6/site-packages/h5py/__init__.py:34: FutureWarning: Conversion of the second argument of issubdtype from `float` to `np.floating` is deprecated. In future, it will be treated as `np.float64 == np.dtype(float).type`.\n",
      "  from ._conv import register_converters as _register_converters\n",
      "Using TensorFlow backend.\n"
     ]
    }
   ],
   "source": [
    "%matplotlib inline\n",
    "import matplotlib.pyplot as plt\n",
    "import tensorflow as tf\n",
    "import numpy as np\n",
    "import math\n",
    "import gzip\n",
    "import numpy as np\n",
    "import time\n",
    "import os\n",
    "from keras.models import Sequential\n",
    "from keras.layers import InputLayer, Input\n",
    "from keras.layers import Reshape, MaxPooling2D\n",
    "from keras.layers import Conv2D, Dense, Flatten\n",
    "from keras.optimizers import Adam\n",
    "from keras.models import load_model"
   ]
  },
  {
   "cell_type": "markdown",
   "metadata": {},
   "source": [
    "## Load Data\n",
    "\n",
    "    load MNIST Data to list"
   ]
  },
  {
   "cell_type": "code",
   "execution_count": 2,
   "metadata": {
    "collapsed": true
   },
   "outputs": [],
   "source": [
    "# filename for the dataset\n",
    "filename_x_train = \"train-images-idx3-ubyte.gz\"\n",
    "filename_y_train = \"train-labels-idx1-ubyte.gz\"\n",
    "filename_x_test = \"t10k-images-idx3-ubyte.gz\"\n",
    "filename_y_test = \"t10k-labels-idx1-ubyte.gz\"\n",
    "\n",
    "# MNIST images are 28 pixels in each dimension.\n",
    "img_size = 28\n",
    "\n",
    "# Store the images in one-dimensional list of length:\n",
    "img_size_flat = img_size * img_size\n",
    "\n",
    "# The height and width of the image.\n",
    "img_shape = (img_size, img_size)\n",
    "\n",
    "# number of colour channels. \n",
    "num_channels = 1\n",
    "\n",
    "# Tuple with height, width and depth\n",
    "img_shape_full = (img_size, img_size, num_channels)\n",
    "\n",
    "# Number of digit that will be recognized\n",
    "num_classes = 10"
   ]
  },
  {
   "cell_type": "code",
   "execution_count": 3,
   "metadata": {
    "collapsed": true
   },
   "outputs": [],
   "source": [
    "# Data folder\n",
    "data_dir = \"../Handwritten_Recognition/MNIST/\""
   ]
  },
  {
   "cell_type": "code",
   "execution_count": 4,
   "metadata": {},
   "outputs": [],
   "source": [
    "# Number of images in each subset\n",
    "num_train = 55000\n",
    "num_val = 5000\n",
    "num_test = 10000\n",
    "\n",
    "def _load_data(filename, offset):\n",
    "        \"\"\"\n",
    "        Load the data in the given file. Automatically downloads the file\n",
    "        if it does not already exist in the data_dir.\n",
    "\n",
    "        :param filename: Name of the data-file.\n",
    "        :param offset: Start offset in bytes when reading the data-file.\n",
    "        :return: The data as a numpy array.\n",
    "        \"\"\"\n",
    "\n",
    "        # Read the data-file.\n",
    "        path = os.path.join(data_dir, filename)\n",
    "        with gzip.open(path, 'rb') as f:\n",
    "            data = np.frombuffer(f.read(), np.uint8, offset=offset)\n",
    "\n",
    "        return data\n",
    "\n",
    "# Load the data\n",
    "def _load_images(filename):\n",
    "        \"\"\"\n",
    "        Load image-data from the given file.\n",
    "        Automatically downloads the file if it does not exist locally.\n",
    "\n",
    "        :param filename: Name of the data-file.\n",
    "        :return: Numpy array.\n",
    "        \"\"\"\n",
    "\n",
    "        # Read the data as one long array of bytes.\n",
    "        data = _load_data(filename=filename, offset=16)\n",
    "\n",
    "        # Reshape to 2-dim array with shape (num_images, img_size_flat).\n",
    "        images_flat = data.reshape(-1, img_size_flat)\n",
    "\n",
    "        return images_flat\n",
    "def _load_cls( filename):\n",
    "        \"\"\"\n",
    "        Load class-numbers from the given file.\n",
    "        Automatically downloads the file if it does not exist locally.\n",
    "\n",
    "        :param filename: Name of the data-file.\n",
    "        :return: Numpy array.\n",
    "        \"\"\"\n",
    "        return _load_data(filename=filename, offset=8)\n",
    "def random_batch(batch_size=32):\n",
    "        \"\"\"\n",
    "        Create a random batch of training-data.\n",
    "\n",
    "        :param batch_size: Number of images in the batch.\n",
    "        :return: 3 numpy arrays (x, y, y_cls)\n",
    "        \"\"\"\n",
    "\n",
    "        # Create a random index into the training-set.\n",
    "        idx = np.random.randint(low=0, high=num_train, size=batch_size)\n",
    "\n",
    "        # Use the index to lookup random training-data.\n",
    "        x_batch = x_train[idx]\n",
    "        y_batch = y_train[idx]\n",
    "        y_batch_cls = y_train_cls[idx]\n",
    "\n",
    "        return x_batch, y_batch, y_batch_cls\n",
    "# load training and validation data\n",
    "x_train = _load_images(filename = filename_x_train)\n",
    "y_train_cls = _load_cls(filename = filename_y_train)\n",
    "# split the training set into train and validation\n",
    "# convert pixel values into from ints b/n 0 and 255 to 0.0 and 1.0\n",
    "x_train = x_train[0:num_train] / 255.0\n",
    "x_val = x_train[num_train:] / 255.0\n",
    "y_train_cls = y_train_cls[0:num_train]\n",
    "y_val_cls = y_train_cls[num_train:]\n",
    "\n",
    "# load test data\n",
    "x_test = _load_images(filename=filename_x_test) / 255.0\n",
    "y_test_cls = _load_cls(filename = filename_y_test)\n",
    "\n",
    "# convert the class numbers from bytes to ints as that is needed for Tensorflow\n",
    "y_train_cls = y_train_cls.astype(np.int)\n",
    "y_val_cls = y_val_cls.astype(np.int)\n",
    "y_test_cls = y_test_cls.astype(np.int)\n",
    "\n",
    "# function for one hot encoding\n",
    "def one_hot_encoded(class_numbers, num_classes=None):\n",
    "    \"\"\"\n",
    "    Generate the One-Hot encoded class-labels from an array of integers.\n",
    "\n",
    "    For example, if class_number=2 and num_classes=4 then\n",
    "    the one-hot encoded label is the float array: [0. 0. 1. 0.]\n",
    "\n",
    "    :param class_numbers:\n",
    "        Array of integers with class-numbers.\n",
    "        Assume the integers are from zero to num_classes-1 inclusive.\n",
    "\n",
    "    :param num_classes:\n",
    "        Number of classes. If None then use max(class_numbers)+1.\n",
    "\n",
    "    :return:\n",
    "        2-dim array of shape: [len(class_numbers), num_classes]\n",
    "    \"\"\"\n",
    "\n",
    "    # Find the number of classes if None is provided.\n",
    "    # Assumes the lowest class-number is zero.\n",
    "    if num_classes is None:\n",
    "        num_classes = np.max(class_numbers) + 1\n",
    "\n",
    "    return np.eye(num_classes, dtype=float)[class_numbers]\n",
    "\n",
    "# Convert the integers class-numbers into one-hot encoded list.\n",
    "y_train = one_hot_encoded(class_numbers = y_train_cls,\n",
    "                         num_classes = num_classes)\n",
    "y_val = one_hot_encoded(class_numbers = y_val_cls,\n",
    "                       num_classes = num_classes)\n",
    "y_test = one_hot_encoded(class_numbers = y_test_cls,\n",
    "                        num_classes = num_classes)"
   ]
  },
  {
   "cell_type": "code",
   "execution_count": 5,
   "metadata": {},
   "outputs": [
    {
     "name": "stdout",
     "output_type": "stream",
     "text": [
      "Size of:\n",
      "- Training-set:\t\t55000\n",
      "- Validation-set:\t5000\n",
      "- Test-set:\t\t10000\n"
     ]
    }
   ],
   "source": [
    "print(\"Size of:\")\n",
    "print(\"- Training-set:\\t\\t{}\".format(num_train))\n",
    "print(\"- Validation-set:\\t{}\".format(num_val))\n",
    "print(\"- Test-set:\\t\\t{}\".format(num_test))"
   ]
  },
  {
   "cell_type": "code",
   "execution_count": 6,
   "metadata": {
    "collapsed": true
   },
   "outputs": [],
   "source": [
    "# function for ploting images\n",
    "def plot_images(images, cls_true, cls_pred=None):\n",
    "    assert len(images) == len(cls_true) == 9\n",
    "    \n",
    "    # Create figure with 3x3 sub-plots.\n",
    "    fig, axes = plt.subplots(3, 3)\n",
    "    fig.subplots_adjust(hspace=0.3, wspace=0.3)\n",
    "\n",
    "    for i, ax in enumerate(axes.flat):\n",
    "        # Plot image.\n",
    "        ax.imshow(images[i].reshape(img_shape), cmap='binary')\n",
    "\n",
    "        # Show true and predicted classes.\n",
    "        if cls_pred is None:\n",
    "            xlabel = \"True: {0}\".format(cls_true[i])\n",
    "        else:\n",
    "            xlabel = \"True: {0}, Pred: {1}\".format(cls_true[i], cls_pred[i])\n",
    "\n",
    "        ax.set_xlabel(xlabel)\n",
    "        \n",
    "        # Remove ticks from the plot.\n",
    "        ax.set_xticks([])\n",
    "        ax.set_yticks([])\n",
    "        \n",
    "    # Ensure the plot is shown correctly with multiple plots\n",
    "    # in a single Notebook cell.\n",
    "    plt.show()"
   ]
  },
  {
   "cell_type": "code",
   "execution_count": 7,
   "metadata": {},
   "outputs": [
    {
     "data": {
      "image/png": "[encoded data removed]",
      "text/plain": [
       "<matplotlib.figure.Figure at 0x7f25487ca5c0>"
      ]
     },
     "metadata": {},
     "output_type": "display_data"
    }
   ],
   "source": [
    "images = x_test[18:27]\n",
    "cls_true = y_test_cls[18:27]\n",
    "plot_images(images = images, cls_true=cls_true)"
   ]
  },
  {
   "cell_type": "code",
   "execution_count": 8,
   "metadata": {
    "collapsed": true
   },
   "outputs": [],
   "source": [
    "def plot_example_errors(cls_pred):\n",
    "    # cls_pred is an array of the predicted class-number for\n",
    "    # all images in the test-set.\n",
    "\n",
    "    # Boolean array whether the predicted class is incorrect.\n",
    "    incorrect = (cls_pred != y_test_cls)\n",
    "\n",
    "    # Get the images from the test-set that have been\n",
    "    # incorrectly classified.\n",
    "    images = x_test[incorrect]\n",
    "    \n",
    "    # Get the predicted classes for those images.\n",
    "    cls_pred = cls_pred[incorrect]\n",
    "\n",
    "    # Get the true classes for those images.\n",
    "    cls_true = y_test_cls[incorrect]\n",
    "    \n",
    "    # Plot the first 9 images.\n",
    "    plot_images(images=images[0:9],\n",
    "                cls_true=cls_true[0:9],\n",
    "                cls_pred=cls_pred[0:9])"
   ]
  },
  {
   "cell_type": "markdown",
   "metadata": {},
   "source": [
    "# Keras Sequential Model\n",
    "The layers are added in sequence."
   ]
  },
  {
   "cell_type": "code",
   "execution_count": 9,
   "metadata": {},
   "outputs": [],
   "source": [
    "# model for stacking the layers in sequence\n",
    "model = Sequential()\n",
    "\n",
    "# Input layer \n",
    "model.add(InputLayer(input_shape = (img_size_flat,)))\n",
    "\n",
    "# Reshape input layer from 784 elements to shape of (28,28,1)\n",
    "model.add(Reshape(img_shape_full))\n",
    "\n",
    "# First Convolutional layer with ReLu Activation function\n",
    "model.add(Conv2D(kernel_size=5, strides=1, filters=16, padding='same',\n",
    "                activation = 'relu', name='layer_conv1'))\n",
    "# Max-pooling of first layer\n",
    "model.add(MaxPooling2D(pool_size=2, strides=2))\n",
    "\n",
    "# Second Convolutional layer with ReLu Activation function\n",
    "model.add(Conv2D(kernel_size=5, strides=1, filters=36, padding='same',\n",
    "                activation='relu', name = 'layer_conv2'))\n",
    "\n",
    "# Max-pooling of second layer\n",
    "model.add(MaxPooling2D(pool_size=2, strides=2))\n",
    "\n",
    "# Flatten the 4-rank output of the convolutional layers to\n",
    "# 2-rank that can be input to fully-connected/dense layer.\n",
    "model.add(Flatten())\n",
    "\n",
    "# Fully-connected layer with ReLu-activation\n",
    "model.add(Dense(128, activation='relu'))\n",
    "\n",
    "# Fully-connected layer with Softmax-activation\n",
    "model.add(Dense(num_classes, activation='softmax'))"
   ]
  },
  {
   "cell_type": "code",
   "execution_count": 10,
   "metadata": {},
   "outputs": [],
   "source": [
    "# Model compilation\n",
    "model.compile(optimizer=Adam(lr=1e-3),\n",
    "             loss='categorical_crossentropy',\n",
    "             metrics=['accuracy'])"
   ]
  },
  {
   "cell_type": "code",
   "execution_count": 11,
   "metadata": {},
   "outputs": [
    {
     "name": "stdout",
     "output_type": "stream",
     "text": [
      "Epoch 1/1\n",
      "55000/55000 [==============================] - 64s 1ms/step - loss: 0.2175 - acc: 0.9356\n"
     ]
    },
    {
     "data": {
      "text/plain": [
       "<keras.callbacks.History at 0x7f2545e57400>"
      ]
     },
     "execution_count": 11,
     "metadata": {},
     "output_type": "execute_result"
    }
   ],
   "source": [
    "# Model Training\n",
    "model.fit(x=x_train,\n",
    "         y=y_train,\n",
    "         epochs=1, batch_size=128)"
   ]
  },
  {
   "cell_type": "code",
   "execution_count": 12,
   "metadata": {},
   "outputs": [
    {
     "name": "stdout",
     "output_type": "stream",
     "text": [
      "10000/10000 [==============================] - 6s 609us/step\n"
     ]
    }
   ],
   "source": [
    "# Model Evaluation\n",
    "result = model.evaluate(x = x_test,\n",
    "                       y = y_test)"
   ]
  },
  {
   "cell_type": "code",
   "execution_count": 13,
   "metadata": {},
   "outputs": [
    {
     "name": "stdout",
     "output_type": "stream",
     "text": [
      "loss 0.06407192339431494\n",
      "acc 0.9799\n"
     ]
    }
   ],
   "source": [
    "for name, value in zip(model.metrics_names, result):\n",
    "    print(name, value)"
   ]
  },
  {
   "cell_type": "code",
   "execution_count": 14,
   "metadata": {},
   "outputs": [
    {
     "name": "stdout",
     "output_type": "stream",
     "text": [
      "acc: 97.99%\n"
     ]
    }
   ],
   "source": [
    "print(\"{0}: {1:.2%}\".format(model.metrics_names[1], result[1]))"
   ]
  },
  {
   "cell_type": "code",
   "execution_count": 15,
   "metadata": {},
   "outputs": [
    {
     "data": {
      "image/png": "[encoded data removed]",
      "text/plain": [
       "<matplotlib.figure.Figure at 0x7f2545b100f0>"
      ]
     },
     "metadata": {},
     "output_type": "display_data"
    }
   ],
   "source": [
    "# Model Prediction\n",
    "images = x_test[0:9]\n",
    "cls_true = y_test_cls[0:9]\n",
    "y_pred = model.predict(x=images)\n",
    "cls_pred = np.argmax(y_pred, axis=1)\n",
    "plot_images(images=images,\n",
    "           cls_true=cls_true,\n",
    "           cls_pred=cls_pred)"
   ]
  },
  {
   "cell_type": "code",
   "execution_count": 16,
   "metadata": {},
   "outputs": [
    {
     "data": {
      "image/png": "[encoded data removed]",
      "text/plain": [
       "<matplotlib.figure.Figure at 0x7f2545e57f60>"
      ]
     },
     "metadata": {},
     "output_type": "display_data"
    }
   ],
   "source": [
    "# Mis-Classified Images\n",
    "y_pred = model.predict(x=x_test)\n",
    "cls_pred = np.argmax(y_pred, axis=1)\n",
    "plot_example_errors(cls_pred)"
   ]
  },
  {
   "cell_type": "code",
   "execution_count": 17,
   "metadata": {},
   "outputs": [
    {
     "name": "stdout",
     "output_type": "stream",
     "text": [
      "_________________________________________________________________\n",
      "Layer (type)                 Output Shape              Param #   \n",
      "=================================================================\n",
      "input_1 (InputLayer)         (None, 784)               0         \n",
      "_________________________________________________________________\n",
      "reshape_1 (Reshape)          (None, 28, 28, 1)         0         \n",
      "_________________________________________________________________\n",
      "layer_conv1 (Conv2D)         (None, 28, 28, 16)        416       \n",
      "_________________________________________________________________\n",
      "max_pooling2d_1 (MaxPooling2 (None, 14, 14, 16)        0         \n",
      "_________________________________________________________________\n",
      "layer_conv2 (Conv2D)         (None, 14, 14, 36)        14436     \n",
      "_________________________________________________________________\n",
      "max_pooling2d_2 (MaxPooling2 (None, 7, 7, 36)          0         \n",
      "_________________________________________________________________\n",
      "flatten_1 (Flatten)          (None, 1764)              0         \n",
      "_________________________________________________________________\n",
      "dense_1 (Dense)              (None, 128)               225920    \n",
      "_________________________________________________________________\n",
      "dense_2 (Dense)              (None, 10)                1290      \n",
      "=================================================================\n",
      "Total params: 242,062\n",
      "Trainable params: 242,062\n",
      "Non-trainable params: 0\n",
      "_________________________________________________________________\n"
     ]
    }
   ],
   "source": [
    "model.summary()"
   ]
  },
  {
   "cell_type": "code",
   "execution_count": 18,
   "metadata": {},
   "outputs": [],
   "source": [
    "# Save Model\n",
    "path_model = 'model.keras'\n",
    "model.save(path_model)"
   ]
  },
  {
   "cell_type": "code",
   "execution_count": 19,
   "metadata": {
    "collapsed": true
   },
   "outputs": [],
   "source": [
    "del model"
   ]
  },
  {
   "cell_type": "code",
   "execution_count": 20,
   "metadata": {
    "collapsed": true
   },
   "outputs": [],
   "source": [
    "# Load Model\n",
    "model = load_model(path_model)"
   ]
  },
  {
   "cell_type": "code",
   "execution_count": 21,
   "metadata": {},
   "outputs": [
    {
     "data": {
      "image/png": "[encoded data removed]",
      "text/plain": [
       "<matplotlib.figure.Figure at 0x7f2545e57be0>"
      ]
     },
     "metadata": {},
     "output_type": "display_data"
    }
   ],
   "source": [
    "# fetch data\n",
    "images = x_test[0:9]\n",
    "cls_true = y_test_cls[0:9]\n",
    "\n",
    "# predict model\n",
    "y_pred = model.predict(x=images)\n",
    "cls_pred = np.argmax(y_pred, axis=1)\n",
    "plot_images(images=images,\n",
    "           cls_pred=cls_pred,\n",
    "           cls_true=cls_true)"
   ]
  },
  {
   "cell_type": "markdown",
   "metadata": {},
   "source": [
    "---- The End ------"
   ]
  }
 ],
 "metadata": {
  "kernelspec": {
   "display_name": "Python 2",
   "language": "python",
   "name": "python2"
  },
  "language_info": {
   "codemirror_mode": {
    "name": "ipython",
    "version": 3
   },
   "file_extension": ".py",
   "mimetype": "text/x-python",
   "name": "python",
   "nbconvert_exporter": "python",
   "pygments_lexer": "ipython3",
   "version": "3.6.3"
  }
 },
 "nbformat": 4,
 "nbformat_minor": 2
}
